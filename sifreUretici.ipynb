{
 "cells": [
  {
   "cell_type": "code",
   "execution_count": null,
   "id": "78790f13-8e86-4271-92f5-bb27759ed6dc",
   "metadata": {},
   "outputs": [],
   "source": [
    "import random\n",
    "import string\n",
    "\n",
    "def sifre_uretici():\n",
    "    print(\"Rastgele Şifre Üreticisine Hoş Geldiniz!\")\n",
    "    uzunluk = int(input(\"Şifrenizin uzunluğunu girin: \"))\n",
    "    karakter_seti = string.ascii_letters + string.digits + string.punctuation\n",
    "    sifre = ''.join(random.choice(karakter_seti) for _ in range(uzunluk))\n",
    "    print(f\"Oluşturulan Şifre: {sifre}\")\n",
    "\n",
    "sifre_uretici()\n"
   ]
  },
  {
   "cell_type": "code",
   "execution_count": null,
   "id": "9596b88a-b5da-4c81-afb5-75c2ad03df38",
   "metadata": {},
   "outputs": [],
   "source": []
  }
 ],
 "metadata": {
  "kernelspec": {
   "display_name": "Python 3 (ipykernel)",
   "language": "python",
   "name": "python3"
  },
  "language_info": {
   "codemirror_mode": {
    "name": "ipython",
    "version": 3
   },
   "file_extension": ".py",
   "mimetype": "text/x-python",
   "name": "python",
   "nbconvert_exporter": "python",
   "pygments_lexer": "ipython3",
   "version": "3.12.7"
  }
 },
 "nbformat": 4,
 "nbformat_minor": 5
}
